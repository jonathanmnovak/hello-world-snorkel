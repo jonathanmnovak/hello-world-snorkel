{
 "cells": [
  {
   "cell_type": "code",
   "execution_count": 1,
   "id": "81e1ce96",
   "metadata": {},
   "outputs": [],
   "source": [
    "from utils import load_spam_dataset\n",
    "import pandas as pd"
   ]
  },
  {
   "cell_type": "markdown",
   "id": "020d62d0",
   "metadata": {},
   "source": [
    "# Load Data"
   ]
  },
  {
   "cell_type": "code",
   "execution_count": 2,
   "id": "1a43fa13",
   "metadata": {},
   "outputs": [],
   "source": [
    "df_train, df_test = load_spam_dataset(load_train_labels=True)"
   ]
  },
  {
   "cell_type": "markdown",
   "id": "84aceb91",
   "metadata": {},
   "source": [
    "# Writing Slicing Functions (SFs)"
   ]
  },
  {
   "cell_type": "code",
   "execution_count": 4,
   "id": "f4fed87e",
   "metadata": {},
   "outputs": [],
   "source": [
    "#Execute slicing functions\n",
    "from SpamSlicingFunctions import *\n",
    "sfs = [short_comment]"
   ]
  },
  {
   "cell_type": "code",
   "execution_count": 5,
   "id": "5f91d0bf",
   "metadata": {},
   "outputs": [],
   "source": [
    "#Visualize\n",
    "from snorkel.slicing import slice_dataframe\n",
    "short_comment_df = slice_dataframe(df_test, short_comment)\n",
    "cols = ['text', 'label']\n",
    "short_comment_df[cols].head()"
   ]
  },
  {
   "cell_type": "markdown",
   "id": "6deb832b",
   "metadata": {},
   "source": [
    "# Monitor Slice Performance"
   ]
  },
  {
   "cell_type": "code",
   "execution_count": 9,
   "id": "57c66086",
   "metadata": {},
   "outputs": [
    {
     "data": {
      "text/plain": [
       "LogisticRegression(C=0.001, solver='liblinear')"
      ]
     },
     "execution_count": 9,
     "metadata": {},
     "output_type": "execute_result"
    }
   ],
   "source": [
    "#Train classifier\n",
    "from sklearn.feature_extraction.text import CountVectorizer\n",
    "from sklearn.linear_model import LogisticRegression\n",
    "from utils import df_to_features\n",
    "\n",
    "vectorizer = CountVectorizer(ngram_range=(1,1))\n",
    "X_train, Y_train = df_to_features(vectorizer, df_train, \"train\")\n",
    "X_test, Y_test = df_to_features(vectorizer, df_test, \"test\")\n",
    "\n",
    "sklearn_model = LogisticRegression(C=0.001, solver=\"liblinear\")\n",
    "sklearn_model.fit(X=X_train, y=Y_train)"
   ]
  },
  {
   "cell_type": "code",
   "execution_count": 10,
   "id": "789feda3",
   "metadata": {},
   "outputs": [
    {
     "name": "stdout",
     "output_type": "stream",
     "text": [
      "Test set F1: 92.5%\n"
     ]
    }
   ],
   "source": [
    "#Evaluate overall performance\n",
    "from sklearn.metrics import f1_score\n",
    "from snorkel.utils import preds_to_probs\n",
    "preds_test = sklearn_model.predict(X_test)\n",
    "probs_test = preds_to_probs(preds_test, 2)\n",
    "\n",
    "print(f\"Test set F1: {100*f1_score(Y_test, preds_test):.1f}%\")"
   ]
  },
  {
   "cell_type": "code",
   "execution_count": 11,
   "id": "18a36099",
   "metadata": {},
   "outputs": [
    {
     "name": "stderr",
     "output_type": "stream",
     "text": [
      "100%|████████████████████████████████████████| 250/250 [00:00<00:00, 28448.30it/s]\n"
     ]
    },
    {
     "data": {
      "text/html": [
       "<div>\n",
       "<style scoped>\n",
       "    .dataframe tbody tr th:only-of-type {\n",
       "        vertical-align: middle;\n",
       "    }\n",
       "\n",
       "    .dataframe tbody tr th {\n",
       "        vertical-align: top;\n",
       "    }\n",
       "\n",
       "    .dataframe thead th {\n",
       "        text-align: right;\n",
       "    }\n",
       "</style>\n",
       "<table border=\"1\" class=\"dataframe\">\n",
       "  <thead>\n",
       "    <tr style=\"text-align: right;\">\n",
       "      <th></th>\n",
       "      <th>f1</th>\n",
       "    </tr>\n",
       "  </thead>\n",
       "  <tbody>\n",
       "    <tr>\n",
       "      <th>overall</th>\n",
       "      <td>0.925000</td>\n",
       "    </tr>\n",
       "    <tr>\n",
       "      <th>short_comment</th>\n",
       "      <td>0.666667</td>\n",
       "    </tr>\n",
       "  </tbody>\n",
       "</table>\n",
       "</div>"
      ],
      "text/plain": [
       "                     f1\n",
       "overall        0.925000\n",
       "short_comment  0.666667"
      ]
     },
     "execution_count": 11,
     "metadata": {},
     "output_type": "execute_result"
    }
   ],
   "source": [
    "#Evaluate overall and slice performance\n",
    "from snorkel.analysis import Scorer\n",
    "from snorkel.slicing import PandasSFApplier\n",
    "\n",
    "applier = PandasSFApplier(sfs)\n",
    "S_test = applier.apply(df_test)\n",
    "scorer = Scorer(metrics=[\"f1\"])\n",
    "scorer.score_slices(S=S_test, \n",
    "                    golds=Y_test, \n",
    "                    preds=preds_test, \n",
    "                    probs=probs_test, \n",
    "                    as_dataframe=True)"
   ]
  },
  {
   "cell_type": "markdown",
   "id": "06c9b143",
   "metadata": {},
   "source": [
    "# Additional SFs"
   ]
  },
  {
   "cell_type": "code",
   "execution_count": null,
   "id": "d15fc54e",
   "metadata": {},
   "outputs": [],
   "source": []
  }
 ],
 "metadata": {
  "kernelspec": {
   "display_name": "Python 3 (ipykernel)",
   "language": "python",
   "name": "python3"
  },
  "language_info": {
   "codemirror_mode": {
    "name": "ipython",
    "version": 3
   },
   "file_extension": ".py",
   "mimetype": "text/x-python",
   "name": "python",
   "nbconvert_exporter": "python",
   "pygments_lexer": "ipython3",
   "version": "3.7.6"
  }
 },
 "nbformat": 4,
 "nbformat_minor": 5
}
